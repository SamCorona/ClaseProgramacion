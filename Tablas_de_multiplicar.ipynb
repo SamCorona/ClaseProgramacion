{
  "nbformat": 4,
  "nbformat_minor": 0,
  "metadata": {
    "colab": {
      "name": "Tablas_de_multiplicar.ipynb",
      "provenance": [],
      "collapsed_sections": []
    },
    "kernelspec": {
      "name": "python3",
      "display_name": "Python 3"
    },
    "language_info": {
      "name": "python"
    }
  },
  "cells": [
    {
      "cell_type": "code",
      "execution_count": null,
      "metadata": {
        "id": "7risXJWf89-g"
      },
      "outputs": [],
      "source": [
        "print(\"Ingresa la tabla a consultar: \")\n",
        "tabla=int(input())\n",
        "\n",
        "for i in range(1,11):\n",
        "  resultado=tabla*i\n",
        "  print(tabla ,\"x\", i, \"=\" ,resultado)"
      ]
    }
  ]
}